{
 "cells": [
  {
   "attachments": {},
   "cell_type": "markdown",
   "metadata": {},
   "source": [
    "# Project Title: Pump It Up: Taarifa Tanzania Water Pump Challenge"
   ]
  },
  {
   "attachments": {},
   "cell_type": "markdown",
   "metadata": {},
   "source": [
    "## 1. Project Overview:"
   ]
  },
  {
   "attachments": {},
   "cell_type": "markdown",
   "metadata": {},
   "source": [
    "### Introduction"
   ]
  },
  {
   "attachments": {},
   "cell_type": "markdown",
   "metadata": {},
   "source": [
    "##### My project aims to tackle the Pump It Up: Taarifa Tanzania Water Pump Challenge. It involves predicting the operational status of water points in Tanzania to improve maintenance operations and ensure the availability of clean water."
   ]
  },
  {
   "attachments": {},
   "cell_type": "markdown",
   "metadata": {},
   "source": [
    "### Objectives"
   ]
  },
  {
   "attachments": {},
   "cell_type": "markdown",
   "metadata": {},
   "source": [
    "##### The main objective was to identify key predictive features, and build/fine-tune a machine learning model to predict whether a water pump is functional or broken."
   ]
  },
  {
   "attachments": {},
   "cell_type": "markdown",
   "metadata": {},
   "source": [
    "## 2. Data Preparation"
   ]
  },
  {
   "attachments": {},
   "cell_type": "markdown",
   "metadata": {},
   "source": [
    "### Data Acquisition"
   ]
  },
  {
   "attachments": {},
   "cell_type": "markdown",
   "metadata": {},
   "source": [
    "##### The datasets were pulled from [DrivenData Competition Page](https://www.drivendata.org/competitions/7/pump-it-up-data-mining-the-water-table/page/24/), they were obtained directly from the Taarifa and the Tanzanian Ministry of Water."
   ]
  },
  {
   "attachments": {},
   "cell_type": "markdown",
   "metadata": {},
   "source": [
    "### Columns Info"
   ]
  },
  {
   "attachments": {},
   "cell_type": "markdown",
   "metadata": {},
   "source": [
    "###### -amount_tsh: Represents the total static head, indicating the volume of water available at the waterpoint.\n",
    "###### -date_recorded: The entry date for the corresponding row of data.\n",
    "###### -funder: Identifies the entity responsible for funding the well's establishment.\n",
    "###### -gps_height: Denotes the well's altitude, as determined by GPS.\n",
    "###### -installer: Specifies the organization that carried out the well's installation.\n",
    "###### -longitude and latitude: GPS coordinates pinpointing the well's location.\n",
    "###### -wpt_name: The designated name of the waterpoint, if any.\n",
    "###### -num_private: Indicates whether the well is for private use.\n",
    "###### -basin: The water basin where the well is located.\n",
    "###### -'subvillage', 'region', 'region_code', 'district_code', 'lga', 'ward': Detailed geographical identifiers for the well's location.\n",
    "###### -population: The number of individuals residing in close proximity to the well.\n",
    "###### -public_meeting: A Boolean variable indicating whether a public meeting occurred.\n",
    "###### -recorded_by: The organization or group responsible for the data entry in this row.\n",
    "###### -'scheme_management' and 'scheme_name': The operating authority for the waterpoint.\n",
    "###### -permit: A Boolean variable denoting whether the waterpoint has received the necessary authorization.\n",
    "###### -construction_year: The year in which the waterpoint was constructed.\n",
    "###### -'extraction_type', 'extraction_type_group', 'extraction_type_class': The method employed by the waterpoint to extract water.\n",
    "###### -'management' and 'management_group': Describes the management system overseeing the waterpoint's operations.\n",
    "###### -'payment' and 'payment_type': Specifies the cost associated with the water from the waterpoint.\n",
    "###### -'water_quality' and 'quality_group': An assessment of the water's quality from the waterpoint.\n",
    "###### -'quantity' and 'quantity_group': The measure of water quantity available at the waterpoint.\n",
    "###### -'source', 'source_type', 'source_class': The origin of the water supplied by the waterpoint.\n",
    "###### -'waterpoint_type' and 'waterpoint_type_group': The category or type of the waterpoint."
   ]
  },
  {
   "attachments": {},
   "cell_type": "markdown",
   "metadata": {},
   "source": [
    "### Data Cleaning"
   ]
  },
  {
   "attachments": {},
   "cell_type": "markdown",
   "metadata": {},
   "source": [
    "##### The initial data was cleaned to handle missing values, outliers, and any irrelevant information. This involved techniques such as imputation, dropping irrelevant columns, standardizing values, and changing datatypes."
   ]
  },
  {
   "attachments": {},
   "cell_type": "markdown",
   "metadata": {},
   "source": [
    "### Exploratory Data Analysis (EDA)"
   ]
  },
  {
   "attachments": {},
   "cell_type": "markdown",
   "metadata": {},
   "source": [
    "##### A descriptive analysis was performed to better understand the data, its structure, and key summary statistics."
   ]
  },
  {
   "attachments": {},
   "cell_type": "markdown",
   "metadata": {},
   "source": [
    "### Data Transformation"
   ]
  },
  {
   "attachments": {},
   "cell_type": "markdown",
   "metadata": {},
   "source": [
    "##### Data transformation was done to convert categorical data into a format that can be used for machine learning models. This involved one-hot encoding and ordinal encoding "
   ]
  },
  {
   "attachments": {},
   "cell_type": "markdown",
   "metadata": {},
   "source": [
    "## 4. Feature Engineering"
   ]
  },
  {
   "attachments": {},
   "cell_type": "markdown",
   "metadata": {},
   "source": [
    "### Derived Features"
   ]
  },
  {
   "attachments": {},
   "cell_type": "markdown",
   "metadata": {},
   "source": [
    "#####  New numerical features were derived from patterns in the existing features to help improve the model's performance."
   ]
  },
  {
   "attachments": {},
   "cell_type": "markdown",
   "metadata": {},
   "source": [
    "### Feature_importance_"
   ]
  },
  {
   "attachments": {},
   "cell_type": "markdown",
   "metadata": {},
   "source": [
    "##### I coded a block to print the most relevant features from the data, although because I decided on building a Decision Tree model, I didn't manually select important features for ensembling."
   ]
  },
  {
   "attachments": {},
   "cell_type": "markdown",
   "metadata": {},
   "source": [
    "## 5. Model Development"
   ]
  },
  {
   "attachments": {},
   "cell_type": "markdown",
   "metadata": {},
   "source": [
    "### Decision Tree (DT)"
   ]
  },
  {
   "attachments": {},
   "cell_type": "markdown",
   "metadata": {},
   "source": [
    "##### A Decision Tree model was built as the base model to predict the operational status of water pumps. The data was noisy and the model was likely overfit, so I also built a SMOTE model to adjust re-sampling size of the (DT)."
   ]
  },
  {
   "attachments": {},
   "cell_type": "markdown",
   "metadata": {},
   "source": [
    "### XGBoost"
   ]
  },
  {
   "attachments": {},
   "cell_type": "markdown",
   "metadata": {},
   "source": [
    "##### In addition, an XGBoost model was trained for the same purpose. XGBoost is known for its speed and model performance, and my model blew the (DT) model out of the water, resulting in 91% accuracy!"
   ]
  },
  {
   "attachments": {},
   "cell_type": "markdown",
   "metadata": {},
   "source": [
    "## 6. Evaluation and Results"
   ]
  },
  {
   "attachments": {},
   "cell_type": "markdown",
   "metadata": {},
   "source": [
    "### Performance Metrics"
   ]
  },
  {
   "attachments": {},
   "cell_type": "markdown",
   "metadata": {},
   "source": [
    "##### The performance of the models was evaluated using accuracy, precision, recall, F1 score, ROC-AUC curve, and a confusion matrix for visualization."
   ]
  },
  {
   "attachments": {},
   "cell_type": "markdown",
   "metadata": {},
   "source": [
    "##### For the purpose of this project, I'd assume falsely classifying a 'broken' pump as 'functional' would be more harmful, because these water pumps are relied on by the local population for clean water on a daily basis."
   ]
  },
  {
   "attachments": {},
   "cell_type": "markdown",
   "metadata": {},
   "source": [
    "## 7. Conclusions"
   ]
  },
  {
   "attachments": {},
   "cell_type": "markdown",
   "metadata": {},
   "source": [
    "### Key Takeaways"
   ]
  },
  {
   "attachments": {},
   "cell_type": "markdown",
   "metadata": {},
   "source": [
    "##### There are many factors that affect a water pumps functionability, but some main features are:\n",
    "\n",
    "###### -pump height above water level\n",
    "###### -population count using the pump\n",
    "###### -whether or not the pump operates through dry seasons\n",
    "###### -whether or not the pump was installed according to regulated standards\n",
    "###### -age of the pump, since construction\n",
    "###### -quality of water flowing through the pump\n",
    "\n",
    "##### These insights would prove useful to anybody planning the construction of new pumps in the future, to increase efficiency and prolong the pump lifespan. "
   ]
  },
  {
   "attachments": {},
   "cell_type": "markdown",
   "metadata": {},
   "source": [
    "### Future Work"
   ]
  },
  {
   "attachments": {},
   "cell_type": "markdown",
   "metadata": {},
   "source": [
    "##### For upcoming improvements to this project, I would add a 3rd predictive class 'functional-but-needs-repair' based on the highlighted important features. I would then tune an XGBoost model to accurately predict water pump class, according to the competition rules at [DrivenData](https://www.drivendata.org/competitions/7/pump-it-up-data-mining-the-water-table/rules/)\n",
    "\n",
    "##### Also I would like to print more interesting visuals, and add some to this README file"
   ]
  },
  {
   "attachments": {},
   "cell_type": "markdown",
   "metadata": {},
   "source": []
  }
 ],
 "metadata": {
  "language_info": {
   "name": "python"
  },
  "orig_nbformat": 4
 },
 "nbformat": 4,
 "nbformat_minor": 2
}
